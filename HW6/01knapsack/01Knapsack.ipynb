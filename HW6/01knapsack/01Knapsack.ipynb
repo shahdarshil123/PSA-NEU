{
 "cells": [
  {
   "cell_type": "code",
   "execution_count": 93,
   "metadata": {},
   "outputs": [],
   "source": [
    "class Knapsack:\n",
    "    def __init__(self,bag_size,item_weight,item_values,ans=0):\n",
    "        self._item_values = item_values\n",
    "        self._item_weight = item_weight\n",
    "        self._bag_size = bag_size\n",
    "        self._n_items = len(item_weight)\n",
    "        self.ans = ans\n",
    "        self._bag_values_arr = [ [0 for i in range(self._bag_size+1)] for j in range(self._n_items+1)]\n",
    "        self._steal_arr = [ [0 for i in range(self._bag_size+1)] for j in range(self._n_items+1)]\n",
    "        self.knapsack()\n",
    "\n",
    "        \n",
    "    def knapsack(self):\n",
    "        for i in range(1,self._n_items+1):\n",
    "            for j in range(self._bag_size+1):\n",
    "                self._bag_values_arr[i][j] = self.cal_val(i,j)\n",
    "                #self._steal_arr[i][j] = self._calc_steal_values()\n",
    "        # print(self._bag_values_arr)\n",
    "        # print(self._steal_arr)\n",
    "        # print(self.find_items_stolen(self._bag_size)[0])\n",
    "        # print(self.find_items_stolen(self._bag_size)[1])\n",
    "        self.ans = self._bag_values_arr[self._n_items][self._bag_size]\n",
    "        self.display()\n",
    "        return()\n",
    "\n",
    "    def cal_val(self,item,bag_size):\n",
    "        prev_val = self._bag_values_arr[item-1][bag_size]\n",
    "        weight =  self._item_weight[item-1]\n",
    "        if(bag_size < weight):\n",
    "            #self._steal_arr[item][bag_size] = 0\n",
    "            return(prev_val)\n",
    "        else:\n",
    "            val = self._item_values[item-1]\n",
    "            #bag_size -= self._item_weight[item-1]\n",
    "            val += self._bag_values_arr[item-1][bag_size-weight]\n",
    "            #print(val)\n",
    "            if(val>prev_val):\n",
    "                self._steal_arr[item][bag_size] = 1\n",
    "                return(val)\n",
    "            else:\n",
    "                return(prev_val)\n",
    "\n",
    "    def find_items_stolen(self,bag_size):\n",
    "        stole_items = []\n",
    "        stole_item_value = []\n",
    "        item = self._n_items\n",
    "        val = 0 \n",
    "        while(item>0):\n",
    "            if(self._steal_arr[item][bag_size]==1):\n",
    "                stole_items.append(item)\n",
    "                stole_item_value.append(self._item_values[item-1])\n",
    "                #val += self._item_values[item-1]\n",
    "                bag_size -= self._item_weight[item-1]\n",
    "            item -= 1\n",
    "        #print(val)\n",
    "        return(stole_items,stole_item_value)\n",
    "\n",
    "    def display(self):\n",
    "        print('------------ V matrix ----------------')\n",
    "        for i in range(self._n_items+1):\n",
    "            for j in range(self._bag_size+1):\n",
    "                print(self._bag_values_arr[i][j], end=' ')\n",
    "            print()\n",
    "        print('------------ k matrix ----------------')\n",
    "        for i in range(self._n_items+1):\n",
    "            for j in range(self._bag_size+1):\n",
    "                print(self._steal_arr[i][j], end=' ')\n",
    "            print()\n",
    "        print('i = ',end ='')\n",
    "        for i in range(1,self._n_items+1):\n",
    "            print(i,end=' ')\n",
    "        print()        \n",
    "        print('w = ',end=' ')\n",
    "        for i in self._item_weight:\n",
    "            print(i,end=' ')\n",
    "        print() \n",
    "        print('v = ',end=' ')    \n",
    "        for i in self._item_values:\n",
    "            print(i,end=' ')\n",
    "        print()\n",
    "        print('Max value of {} can obtained from items {} that has values {}'.format(self.ans,(self.find_items_stolen(self._bag_size)[0]),(self.find_items_stolen(self._bag_size)[1])))    \n",
    "\n",
    "\n",
    "        \n",
    "        \n",
    "                \n",
    "\n",
    "\n",
    "\n",
    "\n",
    "\n",
    "\n",
    "        \n",
    "\n",
    "\n",
    "\n",
    "\n",
    "    \n",
    "\n",
    "    \n",
    "    "
   ]
  },
  {
   "cell_type": "code",
   "execution_count": null,
   "metadata": {},
   "outputs": [],
   "source": [
    "def knapsack(self,item_values,item_weight):\n",
    "    "
   ]
  },
  {
   "cell_type": "code",
   "execution_count": 88,
   "metadata": {},
   "outputs": [
    {
     "name": "stdout",
     "output_type": "stream",
     "text": [
      "------------ V matrix ----------------\n",
      "0 0 0 0 0 \n",
      "0 0 0 5 5 \n",
      "0 0 3 5 5 \n",
      "0 4 4 7 9 \n",
      "------------ k matrix ----------------\n",
      "0 0 0 0 0 \n",
      "0 0 0 1 1 \n",
      "0 0 1 0 0 \n",
      "0 1 1 1 1 \n",
      "i = 1 2 3 \n",
      "w =  3 2 1 \n",
      "v =  5 3 4 \n",
      "Max value of 9 can obtained from items [3, 1] that has values [4, 5]\n"
     ]
    }
   ],
   "source": [
    "values = [5,3,4]\n",
    "weight = [3,2,1]\n",
    "bag_size = 5\n",
    "knap = Knapsack(bag_size,weight,values,ans=0)\n"
   ]
  },
  {
   "cell_type": "code",
   "execution_count": 8,
   "metadata": {},
   "outputs": [
    {
     "name": "stdout",
     "output_type": "stream",
     "text": [
      "[[0, 0, 0, 0, 0], [0, 0, 0, 0, 0], [0, 0, 0, 0, 0], [0, 0, 0, 0, 0]]\n"
     ]
    }
   ],
   "source": [
    "_n_items = 3\n",
    "_bag_size = 5\n",
    "arr = [ [0 for i in range(_bag_size+1)] for j in range(_n_items+1)]\n",
    "print(arr)"
   ]
  },
  {
   "cell_type": "markdown",
   "metadata": {},
   "source": [
    "# TEST BENCH"
   ]
  },
  {
   "cell_type": "markdown",
   "metadata": {},
   "source": []
  },
  {
   "cell_type": "code",
   "execution_count": 95,
   "metadata": {},
   "outputs": [],
   "source": [
    "class Knapsack1:\n",
    "    def test_bench(self):\n",
    "       print(\"------------knapsack2(k2)---------------------\")\n",
    "       w = [3,2,1]\n",
    "       v = [5,3,4]\n",
    "       ans = 0\n",
    "       bag_size = 5\n",
    "       knap = Knapsack(bag_size,w,v,ans=0)\n",
    "       assert(knap.ans==9)\n",
    "\n",
    "       print(\"------------knapsack2(k2)---------------------\")\n",
    "       w = [2,1,3,2]\n",
    "       v = [12,10,20,15]\n",
    "       ans = 0\n",
    "       bag_size = 5\n",
    "       knap = Knapsack(bag_size,w,v,ans=0)\n",
    "       assert(knap.ans==37)\n",
    "\n",
    "       print('ALL TEST CASES PASSED')\n",
    "       "
   ]
  },
  {
   "cell_type": "code",
   "execution_count": 96,
   "metadata": {},
   "outputs": [
    {
     "name": "stdout",
     "output_type": "stream",
     "text": [
      "------------knapsack2(k2)---------------------\n",
      "------------ V matrix ----------------\n",
      "0 0 0 0 0 0 \n",
      "0 0 0 5 5 5 \n",
      "0 0 3 5 5 8 \n",
      "0 4 4 7 9 9 \n",
      "------------ k matrix ----------------\n",
      "0 0 0 0 0 0 \n",
      "0 0 0 1 1 1 \n",
      "0 0 1 0 0 1 \n",
      "0 1 1 1 1 1 \n",
      "i = 1 2 3 \n",
      "w =  3 2 1 \n",
      "v =  5 3 4 \n",
      "Max value of 9 can obtained from items [3, 1] that has values [4, 5]\n",
      "------------knapsack2(k2)---------------------\n",
      "------------ V matrix ----------------\n",
      "0 0 0 0 0 0 \n",
      "0 0 12 12 12 12 \n",
      "0 10 12 22 22 22 \n",
      "0 10 12 22 30 32 \n",
      "0 10 15 25 30 37 \n",
      "------------ k matrix ----------------\n",
      "0 0 0 0 0 0 \n",
      "0 0 1 1 1 1 \n",
      "0 1 0 1 1 1 \n",
      "0 0 0 0 1 1 \n",
      "0 0 1 1 0 1 \n",
      "i = 1 2 3 4 \n",
      "w =  2 1 3 2 \n",
      "v =  12 10 20 15 \n",
      "Max value of 37 can obtained from items [4, 2, 1] that has values [15, 10, 12]\n",
      "ALL TEST CASES PASSED\n"
     ]
    }
   ],
   "source": [
    "def main():\n",
    "    k = Knapsack1()\n",
    "    k.test_bench()\n",
    "\n",
    "\n",
    "############################################################\n",
    "# numCourses up\n",
    "###########################################################\n",
    "if __name__ == \"__main__\":\n",
    "    main()\n"
   ]
  }
 ],
 "metadata": {
  "kernelspec": {
   "display_name": "Python 3",
   "language": "python",
   "name": "python3"
  },
  "language_info": {
   "codemirror_mode": {
    "name": "ipython",
    "version": 3
   },
   "file_extension": ".py",
   "mimetype": "text/x-python",
   "name": "python",
   "nbconvert_exporter": "python",
   "pygments_lexer": "ipython3",
   "version": "3.9.5"
  }
 },
 "nbformat": 4,
 "nbformat_minor": 2
}
